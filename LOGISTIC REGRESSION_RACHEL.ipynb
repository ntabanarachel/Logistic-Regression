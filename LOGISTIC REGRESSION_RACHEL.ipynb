{
 "cells": [
  {
   "cell_type": "markdown",
   "id": "8b726d0a",
   "metadata": {},
   "source": [
    "<b>Python Implementation of Logistic Regression (Binomial)</b>\n",
    "\n",
    "• Case Study: We have a dataset that holds the information of various\n",
    "users from the social Networks. An automobile manufacturer recently\n",
    "launched a new SUV vehicle. As a result, the company wanted to check\n",
    "how many users from the dataset would like to purchase the car.\n",
    "• For this problem\n",
    "− we will build a Machine Learning model using the Logistic regression algorithm.\n",
    "The dataset is shown in the below image. In this problem, we will predict\n",
    "the purchased variable (Dependent Variable) by using age and salary\n",
    "(Independent variables)."
   ]
  },
  {
   "cell_type": "markdown",
   "id": "67892d37",
   "metadata": {},
   "source": [
    "<b>Steps in Logistic Regression</b>\n",
    "\n",
    "1. Data Pre-processing step\n",
    "2. Fitting Logistic Regression to the Training set\n",
    "3. Predicting the test result\n",
    "4. Test accuracy of the result(Creation of Confusion matrix)\n",
    "5. Visualizing the test set result."
   ]
  },
  {
   "cell_type": "markdown",
   "id": "6164d385",
   "metadata": {},
   "source": [
    "1:Data Pre-processing step & Initialization\n",
    "\n",
    "\n",
    "#importing the libraries"
   ]
  },
  {
   "cell_type": "code",
   "execution_count": 65,
   "id": "680b3b9d",
   "metadata": {},
   "outputs": [],
   "source": [
    "import pandas as pd\n",
    "import numpy as np\n",
    "import matplotlib.pyplot as plt"
   ]
  },
  {
   "cell_type": "code",
   "execution_count": 66,
   "id": "f19c8313",
   "metadata": {},
   "outputs": [],
   "source": [
    "#loading data"
   ]
  },
  {
   "cell_type": "code",
   "execution_count": 67,
   "id": "6d829b9c",
   "metadata": {},
   "outputs": [
    {
     "data": {
      "text/html": [
       "<div>\n",
       "<style scoped>\n",
       "    .dataframe tbody tr th:only-of-type {\n",
       "        vertical-align: middle;\n",
       "    }\n",
       "\n",
       "    .dataframe tbody tr th {\n",
       "        vertical-align: top;\n",
       "    }\n",
       "\n",
       "    .dataframe thead th {\n",
       "        text-align: right;\n",
       "    }\n",
       "</style>\n",
       "<table border=\"1\" class=\"dataframe\">\n",
       "  <thead>\n",
       "    <tr style=\"text-align: right;\">\n",
       "      <th></th>\n",
       "      <th>User ID</th>\n",
       "      <th>Gender</th>\n",
       "      <th>Age</th>\n",
       "      <th>EstimatedSalary</th>\n",
       "      <th>Purchased</th>\n",
       "    </tr>\n",
       "  </thead>\n",
       "  <tbody>\n",
       "    <tr>\n",
       "      <th>0</th>\n",
       "      <td>15624510</td>\n",
       "      <td>Male</td>\n",
       "      <td>19</td>\n",
       "      <td>19000</td>\n",
       "      <td>0</td>\n",
       "    </tr>\n",
       "    <tr>\n",
       "      <th>1</th>\n",
       "      <td>15810944</td>\n",
       "      <td>Male</td>\n",
       "      <td>35</td>\n",
       "      <td>20000</td>\n",
       "      <td>0</td>\n",
       "    </tr>\n",
       "    <tr>\n",
       "      <th>2</th>\n",
       "      <td>15668575</td>\n",
       "      <td>Female</td>\n",
       "      <td>26</td>\n",
       "      <td>43000</td>\n",
       "      <td>0</td>\n",
       "    </tr>\n",
       "    <tr>\n",
       "      <th>3</th>\n",
       "      <td>15603246</td>\n",
       "      <td>Female</td>\n",
       "      <td>27</td>\n",
       "      <td>57000</td>\n",
       "      <td>0</td>\n",
       "    </tr>\n",
       "    <tr>\n",
       "      <th>4</th>\n",
       "      <td>15804002</td>\n",
       "      <td>Male</td>\n",
       "      <td>19</td>\n",
       "      <td>76000</td>\n",
       "      <td>0</td>\n",
       "    </tr>\n",
       "  </tbody>\n",
       "</table>\n",
       "</div>"
      ],
      "text/plain": [
       "    User ID  Gender  Age  EstimatedSalary  Purchased\n",
       "0  15624510    Male   19            19000          0\n",
       "1  15810944    Male   35            20000          0\n",
       "2  15668575  Female   26            43000          0\n",
       "3  15603246  Female   27            57000          0\n",
       "4  15804002    Male   19            76000          0"
      ]
     },
     "execution_count": 67,
     "metadata": {},
     "output_type": "execute_result"
    }
   ],
   "source": [
    "dataset = pd.read_csv('User_Data.csv')\n",
    "dataset.head()"
   ]
  },
  {
   "cell_type": "code",
   "execution_count": 68,
   "id": "0f6aef38",
   "metadata": {},
   "outputs": [],
   "source": [
    "#Data Pre-processing step"
   ]
  },
  {
   "cell_type": "code",
   "execution_count": 69,
   "id": "00b0e7ba",
   "metadata": {},
   "outputs": [],
   "source": [
    "#• Extracting Independent and dependent Variable"
   ]
  },
  {
   "cell_type": "code",
   "execution_count": 70,
   "id": "e0eb1516",
   "metadata": {},
   "outputs": [],
   "source": [
    "x= dataset.iloc[ : , [2,3 ] ].values\n",
    "y= dataset.iloc[ : , 4].values"
   ]
  },
  {
   "cell_type": "markdown",
   "id": "c4d0ae53",
   "metadata": {},
   "source": [
    "we have taken [2, 3] for x because our independent variables are <b>age and salary, which\n",
    "are at index 2, 3. And we have taken 4 for y variable because our dependent variable is\n",
    "at index 4.</b>"
   ]
  },
  {
   "cell_type": "code",
   "execution_count": 71,
   "id": "1d0967d4",
   "metadata": {},
   "outputs": [],
   "source": [
    "#Splitting the dataset into training and test set."
   ]
  },
  {
   "cell_type": "code",
   "execution_count": 72,
   "id": "4f94c9ae",
   "metadata": {},
   "outputs": [],
   "source": [
    "from sklearn.model_selection import train_test_split\n",
    "xtrain, xtest, ytrain, ytest = train_test_split(x, y, test_size = 0.25, random_state = 0)"
   ]
  },
  {
   "cell_type": "code",
   "execution_count": 73,
   "id": "9c29e1cc",
   "metadata": {},
   "outputs": [],
   "source": [
    "#Initialization Data Pre-processing step"
   ]
  },
  {
   "cell_type": "markdown",
   "id": "8964fe80",
   "metadata": {},
   "source": [
    "it is very important to perform\n",
    "feature scaling here because Age\n",
    "and Estimated Salary values lie in\n",
    "different ranges. If we don’t scale\n",
    "the features then Estimated Salary\n",
    "feature will dominate Age feature\n",
    "when the model finds the nearest\n",
    "neighbor to a data point in data\n",
    "space"
   ]
  },
  {
   "cell_type": "code",
   "execution_count": 74,
   "id": "71193f3c",
   "metadata": {},
   "outputs": [],
   "source": [
    "from sklearn.preprocessing import StandardScaler\n",
    "sc_x = StandardScaler()\n",
    "xtrain = sc_x.fit_transform(xtrain)\n",
    "xtest = sc_x.transform(xtest)"
   ]
  },
  {
   "cell_type": "code",
   "execution_count": 75,
   "id": "9e104254",
   "metadata": {},
   "outputs": [
    {
     "name": "stdout",
     "output_type": "stream",
     "text": [
      "[[ 0.58164944 -0.88670699]\n",
      " [-0.60673761  1.46173768]\n",
      " [-0.01254409 -0.5677824 ]\n",
      " [-0.60673761  1.89663484]\n",
      " [ 1.37390747 -1.40858358]\n",
      " [ 1.47293972  0.99784738]\n",
      " [ 0.08648817 -0.79972756]\n",
      " [-0.01254409 -0.24885782]\n",
      " [-0.21060859 -0.5677824 ]\n",
      " [-0.21060859 -0.19087153]]\n"
     ]
    }
   ],
   "source": [
    "print (xtrain[0:10, :])"
   ]
  },
  {
   "cell_type": "markdown",
   "id": "f1fe5419",
   "metadata": {},
   "source": [
    "In logistic regression, we will do feature scaling because we want accurate result of\n",
    "predictions.<b>Here we will only scale the independent variable because dependent variable have\n",
    "only 0 and 1 values</b>"
   ]
  },
  {
   "cell_type": "markdown",
   "id": "cee4a3d2",
   "metadata": {},
   "source": [
    "Fitting Logistic Regression to the Training set\n",
    "\n",
    "• Here once see that Age and Estimated salary features values are\n",
    "sacled and now there in the -1 to 1. Hence, each feature will contribute\n",
    "equally in decision making i.e. finalizing the hypothesis."
   ]
  },
  {
   "cell_type": "code",
   "execution_count": 76,
   "id": "e113f4ad",
   "metadata": {},
   "outputs": [
    {
     "data": {
      "text/plain": [
       "LogisticRegression(random_state=0)"
      ]
     },
     "execution_count": 76,
     "metadata": {},
     "output_type": "execute_result"
    }
   ],
   "source": [
    "from sklearn.linear_model import LogisticRegression\n",
    "classifier=LogisticRegression(random_state=0)\n",
    "classifier.fit(xtrain,ytrain)\n"
   ]
  },
  {
   "cell_type": "markdown",
   "id": "1f4535ca",
   "metadata": {},
   "source": [
    "<b>Fitting Logistic Regression to the Training set</b>\n",
    "\n",
    "• Prediction on Testing Data\n",
    "\n",
    "\n",
    "− Our model is well trained on the training set, so we will now predict the result by\n",
    "using test set data. Below is the code for it:"
   ]
  },
  {
   "cell_type": "code",
   "execution_count": 77,
   "id": "a5b01d3a",
   "metadata": {},
   "outputs": [],
   "source": [
    "y_pred = classifier.predict(xtest)"
   ]
  },
  {
   "cell_type": "code",
   "execution_count": 78,
   "id": "f314f6f9",
   "metadata": {},
   "outputs": [
    {
     "data": {
      "text/plain": [
       "array([0, 0, 0, 0, 0, 0, 0, 1, 0, 1, 0, 0, 0, 0, 0, 0, 0, 0, 1, 0, 0, 1,\n",
       "       0, 1, 0, 1, 0, 0, 0, 0, 0, 0, 1, 0, 0, 0, 0, 0, 0, 1, 0, 0, 0, 0,\n",
       "       1, 0, 0, 1, 0, 1, 1, 0, 0, 0, 1, 0, 0, 0, 0, 0, 0, 1, 0, 0, 0, 1,\n",
       "       0, 0, 0, 0, 1, 0, 0, 0, 0, 0, 1, 0, 1, 1, 1, 1, 0, 0, 1, 1, 0, 1,\n",
       "       0, 0, 0, 1, 0, 0, 0, 0, 0, 0, 1, 1], dtype=int64)"
      ]
     },
     "execution_count": 78,
     "metadata": {},
     "output_type": "execute_result"
    }
   ],
   "source": [
    "y_pred"
   ]
  },
  {
   "cell_type": "markdown",
   "id": "b7d89ac8",
   "metadata": {},
   "source": [
    "<b>Test Accuracy of the result</b>\n",
    "\n",
    "Creating the Confusion matrix"
   ]
  },
  {
   "cell_type": "code",
   "execution_count": 79,
   "id": "94c916b9",
   "metadata": {},
   "outputs": [
    {
     "data": {
      "text/plain": [
       "array([[65,  3],\n",
       "       [ 8, 24]], dtype=int64)"
      ]
     },
     "execution_count": 79,
     "metadata": {},
     "output_type": "execute_result"
    }
   ],
   "source": [
    "from sklearn.metrics import confusion_matrix\n",
    "cm= confusion_matrix(ytest,y_pred)\n",
    "cm"
   ]
  },
  {
   "cell_type": "markdown",
   "id": "69a06e0a",
   "metadata": {},
   "source": [
    "out of 100:\n",
    "TP+TN= 65+24=89\n",
    "FP+FN=3+8=11\n",
    "\n",
    "we can interpret that\n",
    "− 65+24= 89 <b>(Correct Output),<b/>\n",
    "− and 8+3= 11(Incorrect Output)."
   ]
  },
  {
   "cell_type": "markdown",
   "id": "9ce8d7ff",
   "metadata": {},
   "source": [
    "<b>Test Accuracy of the result</b>\n",
    "\n",
    "• Accuracy measures the proportion of true results to total cases.\n",
    "− Aim for a high accuracy rate.\n",
    "• Accuracy is a common evaluation metric for classification problems.\n",
    "It’s the number of correct predictions made as a ratio of all predictions\n",
    "made.\n",
    "\n",
    "<b>− accuracy = # correct predictions / # total data points</b>\n",
    "− Overall, how often is the classifier correct?\n",
    "➢ Accuracy = (TP+TN)/total"
   ]
  },
  {
   "cell_type": "code",
   "execution_count": 80,
   "id": "c5895e7b",
   "metadata": {},
   "outputs": [
    {
     "name": "stdout",
     "output_type": "stream",
     "text": [
      "accuracy score: 0.89\n"
     ]
    }
   ],
   "source": [
    "from sklearn.metrics import accuracy_score\n",
    "print(\"accuracy score:\", accuracy_score(ytest,y_pred))"
   ]
  },
  {
   "cell_type": "code",
   "execution_count": 81,
   "id": "7b12c830",
   "metadata": {},
   "outputs": [],
   "source": [
    "from sklearn import svm"
   ]
  },
  {
   "cell_type": "markdown",
   "id": "caa7162e",
   "metadata": {},
   "source": [
    "<b>Test Accuracy of the result</b>\n",
    "\n",
    "• Misclassification Rate(Error Rate): Overall, how often is it wrong.\n",
    "Since accuracy is the percent we correctly classified (success rate), it\n",
    "follows that our error rate (the percentage we got wrong) can be\n",
    "calculated as follows:\n",
    "− Misclassification Rate = (FP+FN)/total"
   ]
  },
  {
   "cell_type": "code",
   "execution_count": 82,
   "id": "55d70e81",
   "metadata": {},
   "outputs": [
    {
     "ename": "ImportError",
     "evalue": "cannot import name 'zero_one_score' from 'sklearn.metrics' (C:\\Users\\user\\anaconda3\\envs\\machinelachel\\lib\\site-packages\\sklearn\\metrics\\__init__.py)",
     "output_type": "error",
     "traceback": [
      "\u001b[1;31m---------------------------------------------------------------------------\u001b[0m",
      "\u001b[1;31mImportError\u001b[0m                               Traceback (most recent call last)",
      "\u001b[1;32m~\\AppData\\Local\\Temp/ipykernel_5940/2457930875.py\u001b[0m in \u001b[0;36m<module>\u001b[1;34m\u001b[0m\n\u001b[1;32m----> 1\u001b[1;33m \u001b[1;32mfrom\u001b[0m \u001b[0msklearn\u001b[0m\u001b[1;33m.\u001b[0m\u001b[0mmetrics\u001b[0m \u001b[1;32mimport\u001b[0m \u001b[0mzero_one_score\u001b[0m\u001b[1;33m\u001b[0m\u001b[1;33m\u001b[0m\u001b[0m\n\u001b[0m\u001b[0;32m      2\u001b[0m \u001b[1;33m\u001b[0m\u001b[0m\n\u001b[0;32m      3\u001b[0m \u001b[0my_pred\u001b[0m \u001b[1;33m=\u001b[0m \u001b[0msvm\u001b[0m\u001b[1;33m.\u001b[0m\u001b[0mpredict\u001b[0m\u001b[1;33m(\u001b[0m\u001b[0mtest_samples\u001b[0m\u001b[1;33m)\u001b[0m\u001b[1;33m\u001b[0m\u001b[1;33m\u001b[0m\u001b[0m\n\u001b[0;32m      4\u001b[0m \u001b[0maccuracy\u001b[0m \u001b[1;33m=\u001b[0m \u001b[0mzero_one_score\u001b[0m\u001b[1;33m(\u001b[0m\u001b[0my_test\u001b[0m\u001b[1;33m,\u001b[0m \u001b[0my_pred\u001b[0m\u001b[1;33m)\u001b[0m\u001b[1;33m\u001b[0m\u001b[1;33m\u001b[0m\u001b[0m\n\u001b[0;32m      5\u001b[0m \u001b[0merror_rate\u001b[0m \u001b[1;33m=\u001b[0m \u001b[1;36m1\u001b[0m \u001b[1;33m-\u001b[0m \u001b[0maccuracy\u001b[0m\u001b[1;33m\u001b[0m\u001b[1;33m\u001b[0m\u001b[0m\n",
      "\u001b[1;31mImportError\u001b[0m: cannot import name 'zero_one_score' from 'sklearn.metrics' (C:\\Users\\user\\anaconda3\\envs\\machinelachel\\lib\\site-packages\\sklearn\\metrics\\__init__.py)"
     ]
    }
   ],
   "source": [
    "from sklearn.metrics import zero_one_score\n",
    "\n",
    "y_pred = svm.predict(test_samples)\n",
    "accuracy = zero_one_score(y_test, y_pred)\n",
    "error_rate = 1 - accuracy"
   ]
  },
  {
   "cell_type": "code",
   "execution_count": null,
   "id": "e162bafd",
   "metadata": {},
   "outputs": [],
   "source": []
  },
  {
   "cell_type": "code",
   "execution_count": null,
   "id": "9f7560ae",
   "metadata": {},
   "outputs": [],
   "source": []
  }
 ],
 "metadata": {
  "kernelspec": {
   "display_name": "Python 3 (ipykernel)",
   "language": "python",
   "name": "python3"
  },
  "language_info": {
   "codemirror_mode": {
    "name": "ipython",
    "version": 3
   },
   "file_extension": ".py",
   "mimetype": "text/x-python",
   "name": "python",
   "nbconvert_exporter": "python",
   "pygments_lexer": "ipython3",
   "version": "3.9.7"
  }
 },
 "nbformat": 4,
 "nbformat_minor": 5
}
