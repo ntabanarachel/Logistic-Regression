{
 "cells": [
  {
   "cell_type": "markdown",
   "id": "8b726d0a",
   "metadata": {},
   "source": [
    "<b>Python Implementation of Logistic Regression (Binomial)</b>\n",
    "\n",
    "• Case Study: We have a dataset that holds the information of various\n",
    "users from the social Networks. An automobile manufacturer recently\n",
    "launched a new SUV vehicle. As a result, the company wanted to check\n",
    "how many users from the dataset would like to purchase the car.\n",
    "• For this problem\n",
    "− we will build a Machine Learning model using the Logistic regression algorithm.\n",
    "The dataset is shown in the below image. In this problem, we will predict\n",
    "the purchased variable (Dependent Variable) by using age and salary\n",
    "(Independent variables)."
   ]
  },
  {
   "cell_type": "markdown",
   "id": "67892d37",
   "metadata": {},
   "source": [
    "<b>Steps in Logistic Regression</b>\n",
    "\n",
    "1. Data Pre-processing step\n",
    "2. Fitting Logistic Regression to the Training set\n",
    "3. Predicting the test result\n",
    "4. Test accuracy of the result(Creation of Confusion matrix)\n",
    "5. Visualizing the test set result."
   ]
  },
  {
   "cell_type": "markdown",
   "id": "6164d385",
   "metadata": {},
   "source": [
    "1:Data Pre-processing step & Initialization\n",
    "\n",
    "\n",
    "#importing the libraries"
   ]
  },
  {
   "cell_type": "code",
   "execution_count": 3,
   "id": "680b3b9d",
   "metadata": {},
   "outputs": [],
   "source": [
    "import pandas as pd\n",
    "import numpy as np\n",
    "import matplotlib.pyplot as plt"
   ]
  },
  {
   "cell_type": "code",
   "execution_count": 4,
   "id": "f19c8313",
   "metadata": {},
   "outputs": [],
   "source": [
    "#loading data"
   ]
  },
  {
   "cell_type": "code",
   "execution_count": 5,
   "id": "6d829b9c",
   "metadata": {},
   "outputs": [
    {
     "data": {
      "text/html": [
       "<div>\n",
       "<style scoped>\n",
       "    .dataframe tbody tr th:only-of-type {\n",
       "        vertical-align: middle;\n",
       "    }\n",
       "\n",
       "    .dataframe tbody tr th {\n",
       "        vertical-align: top;\n",
       "    }\n",
       "\n",
       "    .dataframe thead th {\n",
       "        text-align: right;\n",
       "    }\n",
       "</style>\n",
       "<table border=\"1\" class=\"dataframe\">\n",
       "  <thead>\n",
       "    <tr style=\"text-align: right;\">\n",
       "      <th></th>\n",
       "      <th>User ID</th>\n",
       "      <th>Gender</th>\n",
       "      <th>Age</th>\n",
       "      <th>EstimatedSalary</th>\n",
       "      <th>Purchased</th>\n",
       "    </tr>\n",
       "  </thead>\n",
       "  <tbody>\n",
       "    <tr>\n",
       "      <th>0</th>\n",
       "      <td>15624510</td>\n",
       "      <td>Male</td>\n",
       "      <td>19</td>\n",
       "      <td>19000</td>\n",
       "      <td>0</td>\n",
       "    </tr>\n",
       "    <tr>\n",
       "      <th>1</th>\n",
       "      <td>15810944</td>\n",
       "      <td>Male</td>\n",
       "      <td>35</td>\n",
       "      <td>20000</td>\n",
       "      <td>0</td>\n",
       "    </tr>\n",
       "    <tr>\n",
       "      <th>2</th>\n",
       "      <td>15668575</td>\n",
       "      <td>Female</td>\n",
       "      <td>26</td>\n",
       "      <td>43000</td>\n",
       "      <td>0</td>\n",
       "    </tr>\n",
       "    <tr>\n",
       "      <th>3</th>\n",
       "      <td>15603246</td>\n",
       "      <td>Female</td>\n",
       "      <td>27</td>\n",
       "      <td>57000</td>\n",
       "      <td>0</td>\n",
       "    </tr>\n",
       "    <tr>\n",
       "      <th>4</th>\n",
       "      <td>15804002</td>\n",
       "      <td>Male</td>\n",
       "      <td>19</td>\n",
       "      <td>76000</td>\n",
       "      <td>0</td>\n",
       "    </tr>\n",
       "  </tbody>\n",
       "</table>\n",
       "</div>"
      ],
      "text/plain": [
       "    User ID  Gender  Age  EstimatedSalary  Purchased\n",
       "0  15624510    Male   19            19000          0\n",
       "1  15810944    Male   35            20000          0\n",
       "2  15668575  Female   26            43000          0\n",
       "3  15603246  Female   27            57000          0\n",
       "4  15804002    Male   19            76000          0"
      ]
     },
     "execution_count": 5,
     "metadata": {},
     "output_type": "execute_result"
    }
   ],
   "source": [
    "dataset = pd.read_csv('User_Data.csv')\n",
    "dataset.head()"
   ]
  },
  {
   "cell_type": "code",
   "execution_count": 6,
   "id": "0f6aef38",
   "metadata": {},
   "outputs": [],
   "source": [
    "#Data Pre-processing step"
   ]
  },
  {
   "cell_type": "code",
   "execution_count": 7,
   "id": "00b0e7ba",
   "metadata": {},
   "outputs": [],
   "source": [
    "#• Extracting Independent and dependent Variable"
   ]
  },
  {
   "cell_type": "code",
   "execution_count": 8,
   "id": "e0eb1516",
   "metadata": {},
   "outputs": [],
   "source": [
    "x= dataset.iloc[ : , [2,3 ] ].values\n",
    "y= dataset.iloc[ : , 4].values"
   ]
  },
  {
   "cell_type": "markdown",
   "id": "c4d0ae53",
   "metadata": {},
   "source": [
    "we have taken [2, 3] for x because our independent variables are <b>age and salary, which\n",
    "are at index 2, 3. And we have taken 4 for y variable because our dependent variable is\n",
    "at index 4.</b>"
   ]
  },
  {
   "cell_type": "code",
   "execution_count": 9,
   "id": "1d0967d4",
   "metadata": {},
   "outputs": [],
   "source": [
    "#Splitting the dataset into training and test set."
   ]
  },
  {
   "cell_type": "code",
   "execution_count": 10,
   "id": "4f94c9ae",
   "metadata": {},
   "outputs": [],
   "source": [
    "from sklearn.model_selection import train_test_split\n",
    "xtrain, xtest, ytrain, ytest = train_test_split(x, y, test_size = 0.25, random_state = 0)"
   ]
  },
  {
   "cell_type": "code",
   "execution_count": 11,
   "id": "9c29e1cc",
   "metadata": {},
   "outputs": [],
   "source": [
    "#Initialization Data Pre-processing step"
   ]
  },
  {
   "cell_type": "markdown",
   "id": "8964fe80",
   "metadata": {},
   "source": [
    "it is very important to perform\n",
    "feature scaling here because Age\n",
    "and Estimated Salary values lie in\n",
    "different ranges. If we don’t scale\n",
    "the features then Estimated Salary\n",
    "feature will dominate Age feature\n",
    "when the model finds the nearest\n",
    "neighbor to a data point in data\n",
    "space"
   ]
  },
  {
   "cell_type": "code",
   "execution_count": 12,
   "id": "71193f3c",
   "metadata": {},
   "outputs": [],
   "source": [
    "from sklearn.preprocessing import StandardScaler\n",
    "sc_x = StandardScaler()\n",
    "xtrain = sc_x.fit_transform(xtrain)\n",
    "xtest = sc_x.transform(xtest)"
   ]
  },
  {
   "cell_type": "code",
   "execution_count": 13,
   "id": "9e104254",
   "metadata": {},
   "outputs": [
    {
     "name": "stdout",
     "output_type": "stream",
     "text": [
      "[[ 0.58164944 -0.88670699]\n",
      " [-0.60673761  1.46173768]\n",
      " [-0.01254409 -0.5677824 ]\n",
      " [-0.60673761  1.89663484]\n",
      " [ 1.37390747 -1.40858358]\n",
      " [ 1.47293972  0.99784738]\n",
      " [ 0.08648817 -0.79972756]\n",
      " [-0.01254409 -0.24885782]\n",
      " [-0.21060859 -0.5677824 ]\n",
      " [-0.21060859 -0.19087153]]\n"
     ]
    }
   ],
   "source": [
    "print (xtrain[0:10, :])"
   ]
  },
  {
   "cell_type": "markdown",
   "id": "f1fe5419",
   "metadata": {},
   "source": [
    "In logistic regression, we will do feature scaling because we want accurate result of\n",
    "predictions.<b>Here we will only scale the independent variable because dependent variable have\n",
    "only 0 and 1 values</b>"
   ]
  },
  {
   "cell_type": "markdown",
   "id": "cee4a3d2",
   "metadata": {},
   "source": [
    "Fitting Logistic Regression to the Training set\n",
    "\n",
    "• Here once see that Age and Estimated salary features values are\n",
    "sacled and now there in the -1 to 1. Hence, each feature will contribute\n",
    "equally in decision making i.e. finalizing the hypothesis."
   ]
  },
  {
   "cell_type": "code",
   "execution_count": 14,
   "id": "e113f4ad",
   "metadata": {},
   "outputs": [
    {
     "data": {
      "text/plain": [
       "LogisticRegression(random_state=0)"
      ]
     },
     "execution_count": 14,
     "metadata": {},
     "output_type": "execute_result"
    }
   ],
   "source": [
    "from sklearn.linear_model import LogisticRegression\n",
    "classifier=LogisticRegression(random_state=0)\n",
    "classifier.fit(xtrain,ytrain)\n"
   ]
  },
  {
   "cell_type": "markdown",
   "id": "1f4535ca",
   "metadata": {},
   "source": [
    "<b>Fitting Logistic Regression to the Training set</b>\n",
    "\n",
    "• Prediction on Testing Data\n",
    "\n",
    "\n",
    "− Our model is well trained on the training set, so we will now predict the result by\n",
    "using test set data. Below is the code for it:"
   ]
  },
  {
   "cell_type": "code",
   "execution_count": 15,
   "id": "a5b01d3a",
   "metadata": {},
   "outputs": [],
   "source": [
    "y_pred = classifier.predict(xtest)"
   ]
  },
  {
   "cell_type": "code",
   "execution_count": 16,
   "id": "f314f6f9",
   "metadata": {},
   "outputs": [
    {
     "data": {
      "text/plain": [
       "array([0, 0, 0, 0, 0, 0, 0, 1, 0, 1, 0, 0, 0, 0, 0, 0, 0, 0, 1, 0, 0, 1,\n",
       "       0, 1, 0, 1, 0, 0, 0, 0, 0, 0, 1, 0, 0, 0, 0, 0, 0, 1, 0, 0, 0, 0,\n",
       "       1, 0, 0, 1, 0, 1, 1, 0, 0, 0, 1, 0, 0, 0, 0, 0, 0, 1, 0, 0, 0, 1,\n",
       "       0, 0, 0, 0, 1, 0, 0, 0, 0, 0, 1, 0, 1, 1, 1, 1, 0, 0, 1, 1, 0, 1,\n",
       "       0, 0, 0, 1, 0, 0, 0, 0, 0, 0, 1, 1], dtype=int64)"
      ]
     },
     "execution_count": 16,
     "metadata": {},
     "output_type": "execute_result"
    }
   ],
   "source": [
    "y_pred"
   ]
  },
  {
   "cell_type": "markdown",
   "id": "b7d89ac8",
   "metadata": {},
   "source": [
    "<b>Test Accuracy of the result</b>\n",
    "\n",
    "Creating the Confusion matrix"
   ]
  },
  {
   "cell_type": "code",
   "execution_count": 17,
   "id": "94c916b9",
   "metadata": {},
   "outputs": [
    {
     "data": {
      "text/plain": [
       "array([[65,  3],\n",
       "       [ 8, 24]], dtype=int64)"
      ]
     },
     "execution_count": 17,
     "metadata": {},
     "output_type": "execute_result"
    }
   ],
   "source": [
    "from sklearn.metrics import confusion_matrix\n",
    "cm= confusion_matrix(ytest,y_pred)\n",
    "cm"
   ]
  },
  {
   "cell_type": "markdown",
   "id": "69a06e0a",
   "metadata": {},
   "source": [
    "out of 100:\n",
    "TP+TN= 65+24=89\n",
    "FP+FN=3+8=11\n",
    "\n",
    "we can interpret that\n",
    "− 65+24= 89 <b>(Correct Output),<b/>\n",
    "− and 8+3= 11(Incorrect Output)."
   ]
  },
  {
   "cell_type": "markdown",
   "id": "9ce8d7ff",
   "metadata": {},
   "source": [
    "<b>Test Accuracy of the result</b>\n",
    "\n",
    "• Accuracy measures the proportion of true results to total cases.\n",
    "− Aim for a high accuracy rate.\n",
    "• Accuracy is a common evaluation metric for classification problems.\n",
    "It’s the number of correct predictions made as a ratio of all predictions\n",
    "made.\n",
    "\n",
    "<b>− accuracy = # correct predictions / # total data points</b>\n",
    "− Overall, how often is the classifier correct?\n",
    "➢ Accuracy = (TP+TN)/total"
   ]
  },
  {
   "cell_type": "code",
   "execution_count": 18,
   "id": "c5895e7b",
   "metadata": {},
   "outputs": [
    {
     "name": "stdout",
     "output_type": "stream",
     "text": [
      "accuracy score: 0.89\n"
     ]
    }
   ],
   "source": [
    "from sklearn.metrics import accuracy_score\n",
    "print(\"accuracy score:\", accuracy_score(ytest,y_pred))"
   ]
  },
  {
   "cell_type": "code",
   "execution_count": 19,
   "id": "7b12c830",
   "metadata": {},
   "outputs": [],
   "source": [
    "from sklearn import svm"
   ]
  },
  {
   "cell_type": "markdown",
   "id": "caa7162e",
   "metadata": {},
   "source": [
    "<b>Test Accuracy of the result</b>\n",
    "\n",
    "• Misclassification Rate(Error Rate): Overall, how often is it wrong.\n",
    "Since accuracy is the percent we correctly classified (success rate), it\n",
    "follows that our error rate (the percentage we got wrong) can be\n",
    "calculated as follows:\n",
    "− Misclassification Rate = (FP+FN)/total"
   ]
  },
  {
   "cell_type": "markdown",
   "id": "82de7da0",
   "metadata": {},
   "source": [
    "# Visualizing the training set result"
   ]
  },
  {
   "cell_type": "markdown",
   "id": "5c72773a",
   "metadata": {},
   "source": [
    "Finally, we will visualize the training set result.\n",
    "\n",
    "To visualize the result,\n",
    "we will use ListedColormap class of matplotlib library. Below is the\n",
    "code for it:"
   ]
  },
  {
   "cell_type": "code",
   "execution_count": 21,
   "id": "e63df4f2",
   "metadata": {},
   "outputs": [
    {
     "name": "stderr",
     "output_type": "stream",
     "text": [
      "*c* argument looks like a single numeric RGB or RGBA sequence, which should be avoided as value-mapping will have precedence in case its length matches with *x* & *y*.  Please use the *color* keyword-argument or provide a 2D array with a single row if you intend to specify the same RGB or RGBA value for all points.\n",
      "*c* argument looks like a single numeric RGB or RGBA sequence, which should be avoided as value-mapping will have precedence in case its length matches with *x* & *y*.  Please use the *color* keyword-argument or provide a 2D array with a single row if you intend to specify the same RGB or RGBA value for all points.\n"
     ]
    },
    {
     "data": {
      "image/png": "[encoded data removed]",
      "text/plain": [
       "<Figure size 432x288 with 1 Axes>"
      ]
     },
     "metadata": {
      "needs_background": "light"
     },
     "output_type": "display_data"
    }
   ],
   "source": [
    "\n",
    "#plot to visualize training set result\n",
    "from matplotlib.colors import ListedColormap\n",
    "X_set, y_set = xtrain,ytrain\n",
    "X1, X2 = np.meshgrid(np.arange(start = X_set[:, 0].min() - 1, stop = X_set[:, 0].max() + 1, step = 0.01),\n",
    "                     np.arange(start = X_set[:, 1].min() - 1, stop = X_set[:, 1].max() + 1, step = 0.01))\n",
    "plt.contourf(X1, X2, classifier.predict(np.array([X1.ravel(), X2.ravel()]).T).reshape(X1.shape),\n",
    "             alpha = 0.75, cmap = ListedColormap(('red', 'green')))\n",
    "plt.xlim(X1.min(), X1.max())\n",
    "plt.ylim(X2.min(), X2.max())\n",
    "for i, j in enumerate(np.unique(y_set)):\n",
    "    plt.scatter(X_set[y_set == j, 0], X_set[y_set == j, 1],\n",
    "                c = ListedColormap(('red', 'green'))(i), label = j)\n",
    "plt.title('Logistic Regression (Training set)')\n",
    "plt.xlabel('Age')\n",
    "plt.ylabel('Estimated Salary')\n",
    "plt.legend()\n",
    "plt.show()"
   ]
  },
  {
   "cell_type": "markdown",
   "id": "5fec15b4",
   "metadata": {},
   "source": [
    "The goal of the classifier:\n",
    "\n",
    "• We have successfully visualized the training set result for the logistic\n",
    "regression, and our goal for this classification is to divide the users\n",
    "who purchased the SUV car and who did not purchase the car. So from\n",
    "the output graph, we can clearly see the two regions (Purple and\n",
    "Green) with the observation points. The Purple region is for those\n",
    "users who didn't buy the car, and Green Region is for those users who\n",
    "purchased the car.\n",
    "\n",
    "• Linear Classifier:\n",
    "− As we can see from the graph, the classifier is a Straight line or linear in nature\n",
    "as we have used the Linear model for Logistic Regression. In further topics, we\n",
    "will learn for non-linear Classifiers."
   ]
  },
  {
   "cell_type": "code",
   "execution_count": 22,
   "id": "e83936b9",
   "metadata": {},
   "outputs": [
    {
     "name": "stderr",
     "output_type": "stream",
     "text": [
      "*c* argument looks like a single numeric RGB or RGBA sequence, which should be avoided as value-mapping will have precedence in case its length matches with *x* & *y*.  Please use the *color* keyword-argument or provide a 2D array with a single row if you intend to specify the same RGB or RGBA value for all points.\n",
      "*c* argument looks like a single numeric RGB or RGBA sequence, which should be avoided as value-mapping will have precedence in case its length matches with *x* & *y*.  Please use the *color* keyword-argument or provide a 2D array with a single row if you intend to specify the same RGB or RGBA value for all points.\n"
     ]
    },
    {
     "data": {
      "image/png": "[encoded data removed]",
      "text/plain": [
       "<Figure size 432x288 with 1 Axes>"
      ]
     },
     "metadata": {
      "needs_background": "light"
     },
     "output_type": "display_data"
    }
   ],
   "source": [
    "#plot to visualize training set result\n",
    "from matplotlib.colors import ListedColormap\n",
    "X_set, y_set = xtest,ytest\n",
    "X1, X2 = np.meshgrid(np.arange(start = X_set[:, 0].min() - 1, stop = X_set[:, 0].max() + 1, step = 0.01),\n",
    "                     np.arange(start = X_set[:, 1].min() - 1, stop = X_set[:, 1].max() + 1, step = 0.01))\n",
    "plt.contourf(X1, X2, classifier.predict(np.array([X1.ravel(), X2.ravel()]).T).reshape(X1.shape),\n",
    "             alpha = 0.75, cmap = ListedColormap(('red', 'green')))\n",
    "plt.xlim(X1.min(), X1.max())\n",
    "plt.ylim(X2.min(), X2.max())\n",
    "for i, j in enumerate(np.unique(y_set)):\n",
    "    plt.scatter(X_set[y_set == j, 0], X_set[y_set == j, 1],\n",
    "                c = ListedColormap(('red', 'green'))(i), label = j)\n",
    "plt.title('Logistic Regression (Training set)')\n",
    "plt.xlabel('Age')\n",
    "plt.ylabel('Estimated Salary')\n",
    "plt.legend()\n",
    "plt.show()"
   ]
  },
  {
   "cell_type": "markdown",
   "id": "48512696",
   "metadata": {},
   "source": [
    "<b>Visualizing the test set result:</b>\n",
    "\n",
    "• Our model is well trained using the training dataset. Now, we will\n",
    "visualize the result for new observations (Test set). The code for the\n",
    "test set will remain same as above except that here we will use x_test\n",
    "and y_test instead of x_train and y_train"
   ]
  },
  {
   "cell_type": "markdown",
   "id": "7dee7790",
   "metadata": {},
   "source": [
    "Visualizing the Test set result:\n",
    "\n",
    "After the training of the model, we will now test the result by putting a\n",
    "new dataset, i.e., Test dataset. Code remains the same except some\n",
    "minor changes: such as x_train and y_train will be replaced by x_test\n",
    "and y_test."
   ]
  },
  {
   "cell_type": "code",
   "execution_count": null,
   "id": "a959cb95",
   "metadata": {},
   "outputs": [],
   "source": []
  }
 ],
 "metadata": {
  "kernelspec": {
   "display_name": "Python 3 (ipykernel)",
   "language": "python",
   "name": "python3"
  },
  "language_info": {
   "codemirror_mode": {
    "name": "ipython",
    "version": 3
   },
   "file_extension": ".py",
   "mimetype": "text/x-python",
   "name": "python",
   "nbconvert_exporter": "python",
   "pygments_lexer": "ipython3",
   "version": "3.9.7"
  }
 },
 "nbformat": 4,
 "nbformat_minor": 5
}
